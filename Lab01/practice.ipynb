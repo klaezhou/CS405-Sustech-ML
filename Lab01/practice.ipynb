{
 "cells": [
  {
   "cell_type": "markdown",
   "id": "d74e4c9d",
   "metadata": {},
   "source": [
    "## Solve maze\n",
    "\n",
    "You are given a map that 'W' represents a wall, 'E' represents an empty space, 'S' represents starting point, 'G' represents final goal.\n",
    "\n",
    "Write some code to determine whether you can start from 'S' and eventually read 'G'."
   ]
  },
  {
   "cell_type": "markdown",
   "id": "06c758ce",
   "metadata": {},
   "source": [
    "\n",
    "### Input:\n",
    "\n",
    "SWEEG<br>\n",
    "EWWWE<br>\n",
    "EWWWE<br>\n",
    "EEEEE<br>\n",
    "\n",
    "### Output:\n",
    "\n",
    "Yes\n",
    "\n",
    "### Input:\n",
    "\n",
    "SWEEG<br>\n",
    "EWWWE<br>\n",
    "EWWWE<br>\n",
    "EWEEE<br>\n",
    "\n",
    "### Output:\n",
    "\n",
    "No\n"
   ]
  },
  {
   "cell_type": "code",
   "execution_count": null,
   "id": "78186adf",
   "metadata": {},
   "outputs": [],
   "source": []
  },
  {
   "cell_type": "code",
   "execution_count": null,
   "id": "d18d6e8e",
   "metadata": {},
   "outputs": [],
   "source": []
  }
 ],
 "metadata": {
  "kernelspec": {
   "display_name": "Python 3 (ipykernel)",
   "language": "python",
   "name": "python3"
  },
  "language_info": {
   "codemirror_mode": {
    "name": "ipython",
    "version": 3
   },
   "file_extension": ".py",
   "mimetype": "text/x-python",
   "name": "python",
   "nbconvert_exporter": "python",
   "pygments_lexer": "ipython3",
   "version": "3.10.12"
  }
 },
 "nbformat": 4,
 "nbformat_minor": 5
}
